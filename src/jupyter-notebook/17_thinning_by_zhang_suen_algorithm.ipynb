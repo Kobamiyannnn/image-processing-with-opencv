{
 "cells": [
  {
   "attachments": {},
   "cell_type": "markdown",
   "metadata": {},
   "source": [
    "# 画像処理編 - 17\n",
    "**2値画像をZhang Suenのアルゴリズムにより細線化するプログラム**"
   ]
  },
  {
   "attachments": {},
   "cell_type": "markdown",
   "metadata": {},
   "source": [
    "## 必要なライブラリを読み込む\n",
    "OpenCVでZhang-Suenの細線化アルゴリズムを利用するには，`opencv-contrib-python`をインストールする必要がある．<br>\n",
    "OpenCVには4つの異なるパッケージがあるが，複数のOpenCVパッケージを共存させることは不可能なので注意．\n",
    "- `opencv-python`：安定版\n",
    "- `opencv-contrib-python`：OpenCVの拡張モジュール群（開発版）\n",
    "- `opencv-python-headless`：GUI機能の無いOpenCVの安定版\n",
    "- `opencv-contrib-python-headless`：GUI機能の無いOpenCVの開発版"
   ]
  },
  {
   "cell_type": "code",
   "execution_count": 144,
   "metadata": {},
   "outputs": [],
   "source": [
    "import cv2"
   ]
  },
  {
   "attachments": {},
   "cell_type": "markdown",
   "metadata": {},
   "source": [
    "## 画像を読み込む"
   ]
  },
  {
   "cell_type": "code",
   "execution_count": 145,
   "metadata": {},
   "outputs": [],
   "source": [
    "img = cv2.cvtColor(cv2.imread(\"../../data/kanji.png\"), cv2.COLOR_BGR2GRAY)"
   ]
  },
  {
   "attachments": {},
   "cell_type": "markdown",
   "metadata": {},
   "source": [
    "## Zhang-Suenの細線化アルゴリズムによる細線化"
   ]
  },
  {
   "attachments": {},
   "cell_type": "markdown",
   "metadata": {},
   "source": [
    "### Zhang-Suenの細線化アルゴリズムの仕組み\n",
    "Zhang-Suenの細線化アルゴリズムでは，以下で説明する2つのステップを画像に繰り返し適用することで，2値画像を細線化することができる．<br>\n",
    "#### 前提\n",
    "注目する画素をP1とし，その近傍の画素を下のように定める．\n",
    "$$\n",
    "\\begin{matrix}\n",
    "P9 & P2 & P3 \\\\ P8 & P1 & P4 \\\\ P7 & P6 & P5\n",
    "\\end{matrix}\n",
    "$$\n",
    "また，以下の2つの関数を定める．<br>\n",
    "$N(P1)$：非ゼロの$P1$の近傍の数を返す関数<br>\n",
    "$S(P1)$：$P2,P3,\\cdots,P8,P9,P2$と時計回りに見たときに，$0\\rightarrow 1$の遷移の数を返す関数<br>\n",
    "Zhang-Suenの細線化アルゴリズムで扱う2値画像は，白黒を反転させた2値画像である必要がある．ただし，白を0，黒を1とする．\n",
    "#### ステップ1\n",
    "全ての画素を検証し，以下の条件を同時に全て満たす画素を記録しておく．<br>\n",
    "1. $P1=1$で，8個の近傍を持つ\n",
    "2. $2\\le N(P1)\\le6$\n",
    "3. $S(P1)=1$\n",
    "4. $P2\\times P4\\times P6=0$\n",
    "5. $P4\\times P6\\times P8=0$\n",
    "\n",
    "画像上を走査後，記録された画素を全て0に設定する．\n",
    "#### ステップ2\n",
    "全ての画素を検証し，以下の条件を同時に全て満たす画素を記録しておく．<br>\n",
    "1. $P1=1$で，8個の近傍を持つ\n",
    "2. $2\\le N(P1)\\le6$\n",
    "3. $S(P1)=1$\n",
    "4. $P2\\times P4\\times P8=0$\n",
    "5. $P2\\times P6\\times P8=0$\n",
    "\n",
    "画像上を走査後，記録された画素を全て0に設定する．\n",
    "#### ステップ1とステップ2を繰り返す\n",
    "ステップ1とステップ2を画像に繰り返し適用し，画素値の変化が無くなればアルゴリズムを停止する．"
   ]
  },
  {
   "attachments": {},
   "cell_type": "markdown",
   "metadata": {},
   "source": [
    "### 前処理\n",
    "1. ガウシアンフィルタによる画像の平滑化（この後の処理へのノイズの影響を軽減するため）\n",
    "2. 大津の方法による画像の二値化（白黒反転した二値化画像を得る必要あり）"
   ]
  },
  {
   "cell_type": "code",
   "execution_count": null,
   "metadata": {},
   "outputs": [],
   "source": [
    "# ノイズの影響を軽減するために，ガウシアンフィルタで平滑化\n",
    "blur_img = cv2.GaussianBlur(img, (5, 5), 3)\n",
    "\n",
    "# グレースケール画像の二値化（大津の方法）\n",
    "# THRESH_OTSUは閾値を決定するだけ，二値化のためには他のフラグと組み合わせる必要がある（THRESH_BINARY, THRESH_BINARY_INV）\n",
    "# Zhang-Suenの細線化アルゴリズムを使うには，白黒を反転させる必要があるので，THRESH_BINARY_INV\n",
    "th_val, bin_img = cv2.threshold(blur_img, 0, 255, cv2.THRESH_BINARY_INV + cv2.THRESH_OTSU)"
   ]
  },
  {
   "attachments": {},
   "cell_type": "markdown",
   "metadata": {},
   "source": [
    "### 細線化処理\n",
    "`cv2.ximgproc`（Extended Image Processing）パッケージの`thinning()`関数を用いる．\n",
    "```python\n",
    "dst = cv2.ximproc.thinning(src: Mat, thinningType: int = ...)\n",
    "```\n",
    "- `src`：入力する2値画像<br>\n",
    "- `dst`：出力画像<br>\n",
    "- `thinningType`：使用する細線化アルゴリズム（初期値は`cv2.ximgproc.THINNING_ZHANGSUEN`）"
   ]
  },
  {
   "cell_type": "code",
   "execution_count": 146,
   "metadata": {},
   "outputs": [],
   "source": [
    "# 細線化アルゴリズムの適用\n",
    "img_thinned = cv2.ximgproc.thinning(bin_img, cv2.ximgproc.THINNING_ZHANGSUEN)\n",
    "\n",
    "th_val, img_thinned = cv2.threshold(img_thinned, 0, 255, cv2.THRESH_BINARY_INV) # 反転していた白黒を元に戻す"
   ]
  },
  {
   "attachments": {},
   "cell_type": "markdown",
   "metadata": {},
   "source": [
    "## 処理済み画像の出力"
   ]
  },
  {
   "cell_type": "code",
   "execution_count": 147,
   "metadata": {},
   "outputs": [
    {
     "data": {
      "text/plain": [
       "True"
      ]
     },
     "execution_count": 147,
     "metadata": {},
     "output_type": "execute_result"
    }
   ],
   "source": [
    "cv2.imwrite(\"../../data/jupyter-notebook/ip_17.jpg\", img_thinned)"
   ]
  },
  {
   "attachments": {},
   "cell_type": "markdown",
   "metadata": {},
   "source": [
    "## 原画像と細線化した画像の比較\n",
    "<div align=center>\n",
    "<img src=\"./img/kanji.png\">\n",
    "<img src=\"./img/ip_17.jpg\">\n",
    "</div>"
   ]
  }
 ],
 "metadata": {
  "kernelspec": {
   "display_name": "image-processing-with-opencv-0WXtWX9Y",
   "language": "python",
   "name": "python3"
  },
  "language_info": {
   "codemirror_mode": {
    "name": "ipython",
    "version": 3
   },
   "file_extension": ".py",
   "mimetype": "text/x-python",
   "name": "python",
   "nbconvert_exporter": "python",
   "pygments_lexer": "ipython3",
   "version": "3.10.6"
  },
  "orig_nbformat": 4,
  "vscode": {
   "interpreter": {
    "hash": "a93bf0957201f49ac47ae9f622ab86d603510fec0536f9dd9b4d27b14448df81"
   }
  }
 },
 "nbformat": 4,
 "nbformat_minor": 2
}
