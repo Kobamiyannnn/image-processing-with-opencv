{
 "cells": [
  {
   "attachments": {},
   "cell_type": "markdown",
   "metadata": {},
   "source": [
    "# 画像処理編 - 17\n",
    "**2値画像をZhang Suenのアルゴリズムにより細線化するプログラム**"
   ]
  }
 ],
 "metadata": {
  "kernelspec": {
   "display_name": "image-processing-with-opencv-0WXtWX9Y",
   "language": "python",
   "name": "python3"
  },
  "language_info": {
   "name": "python",
   "version": "3.10.6 (main, Aug 10 2022, 11:40:04) [GCC 11.3.0]"
  },
  "orig_nbformat": 4,
  "vscode": {
   "interpreter": {
    "hash": "a93bf0957201f49ac47ae9f622ab86d603510fec0536f9dd9b4d27b14448df81"
   }
  }
 },
 "nbformat": 4,
 "nbformat_minor": 2
}
