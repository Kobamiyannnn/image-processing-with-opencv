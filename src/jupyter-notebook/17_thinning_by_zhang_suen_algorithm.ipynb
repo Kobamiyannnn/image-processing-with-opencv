{
 "cells": [
  {
   "attachments": {},
   "cell_type": "markdown",
   "metadata": {},
   "source": [
    "# 画像処理編 - 17\n",
    "**2値画像をZhang Suenのアルゴリズムにより細線化するプログラム**"
   ]
  },
  {
   "attachments": {},
   "cell_type": "markdown",
   "metadata": {},
   "source": [
    "## 必要なライブラリを読み込む\n",
    "OpenCVで細線化を行うには，`opencv-contrib-python`をインストールする必要がある．<br>\n",
    "OpenCVには4つの異なるパッケージがあるが，複数のOpenCVパッケージを共存させることは不可能なので注意．\n",
    "- `opencv-python`: 安定版\n",
    "- `opencv-contrib-python`: OpenCVの拡張モジュール群（開発版）\n",
    "- `opencv-python-headless`: GUI機能の無いOpenCVの安定版\n",
    "- `opencv-contrib-python-headless`: GUI機能の無いOpenCVの開発版"
   ]
  },
  {
   "cell_type": "code",
   "execution_count": 144,
   "metadata": {},
   "outputs": [],
   "source": [
    "import cv2\n",
    "import numpy as np"
   ]
  },
  {
   "cell_type": "code",
   "execution_count": 145,
   "metadata": {},
   "outputs": [],
   "source": [
    "img = cv2.cvtColor(cv2.imread(\"../../data/kanji.png\"), cv2.COLOR_BGR2GRAY)"
   ]
  },
  {
   "attachments": {},
   "cell_type": "markdown",
   "metadata": {},
   "source": [
    "## Zhang-Suenの細線化アルゴリズムによる細線化"
   ]
  },
  {
   "attachments": {},
   "cell_type": "markdown",
   "metadata": {},
   "source": [
    "### Zhang-Suenの細線化アルゴリズムの仕組み\n",
    "こんにちは"
   ]
  },
  {
   "attachments": {},
   "cell_type": "markdown",
   "metadata": {},
   "source": [
    "### 前処理"
   ]
  },
  {
   "cell_type": "code",
   "execution_count": null,
   "metadata": {},
   "outputs": [],
   "source": [
    "# ノイズの影響を軽減するために，ガウシアンフィルタで平滑化\n",
    "blur_img = cv2.GaussianBlur(img, (5, 5), 3)\n",
    "\n",
    "# グレースケール画像の二値化（大津の方法）\n",
    "# Zhang-Suenの細線化アルゴリズムを使うには，白黒を反転させる必要がある\n",
    "th_val, bin_img = cv2.threshold(blur_img, 0, 255, cv2.THRESH_BINARY_INV + cv2.THRESH_OTSU)"
   ]
  },
  {
   "attachments": {},
   "cell_type": "markdown",
   "metadata": {},
   "source": [
    "### 細線化処理"
   ]
  },
  {
   "cell_type": "code",
   "execution_count": 146,
   "metadata": {},
   "outputs": [],
   "source": [
    "# 細線化アルゴリズムの適用\n",
    "img_thinned = cv2.ximgproc.thinning(bin_img, cv2.ximgproc.THINNING_ZHANGSUEN)\n",
    "\n",
    "th_val, img_thinned = cv2.threshold(img_thinned, 0, 255, cv2.THRESH_BINARY_INV) # 反転していた白黒を元に戻す"
   ]
  },
  {
   "attachments": {},
   "cell_type": "markdown",
   "metadata": {},
   "source": [
    "## 処理済み画像の出力"
   ]
  },
  {
   "cell_type": "code",
   "execution_count": 147,
   "metadata": {},
   "outputs": [
    {
     "data": {
      "text/plain": [
       "True"
      ]
     },
     "execution_count": 147,
     "metadata": {},
     "output_type": "execute_result"
    }
   ],
   "source": [
    "cv2.imwrite(\"../../data/jupyter-notebook/ip_17.jpg\", img_thinned)"
   ]
  },
  {
   "attachments": {},
   "cell_type": "markdown",
   "metadata": {},
   "source": [
    "## 原画像と細線化した画像の比較\n",
    "<div align=center>\n",
    "<img src=\"./img/kanji.png\">\n",
    "<img src=\"./img/ip_17.jpg\">\n",
    "</div>"
   ]
  }
 ],
 "metadata": {
  "kernelspec": {
   "display_name": "image-processing-with-opencv-0WXtWX9Y",
   "language": "python",
   "name": "python3"
  },
  "language_info": {
   "codemirror_mode": {
    "name": "ipython",
    "version": 3
   },
   "file_extension": ".py",
   "mimetype": "text/x-python",
   "name": "python",
   "nbconvert_exporter": "python",
   "pygments_lexer": "ipython3",
   "version": "3.10.6"
  },
  "orig_nbformat": 4,
  "vscode": {
   "interpreter": {
    "hash": "a93bf0957201f49ac47ae9f622ab86d603510fec0536f9dd9b4d27b14448df81"
   }
  }
 },
 "nbformat": 4,
 "nbformat_minor": 2
}
