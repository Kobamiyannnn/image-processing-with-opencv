{
 "cells": [
  {
   "attachments": {},
   "cell_type": "markdown",
   "metadata": {},
   "source": [
    "# 画像処理編 - 7\n",
    "**アフィン変換により，画像を平行移動するプログラム**"
   ]
  },
  {
   "attachments": {},
   "cell_type": "markdown",
   "metadata": {},
   "source": [
    "## 必要なライブラリを読み込む"
   ]
  },
  {
   "cell_type": "code",
   "execution_count": 1,
   "metadata": {},
   "outputs": [],
   "source": [
    "import cv2\n",
    "import numpy as np"
   ]
  },
  {
   "attachments": {},
   "cell_type": "markdown",
   "metadata": {},
   "source": [
    "## 画像を読み込む"
   ]
  },
  {
   "cell_type": "code",
   "execution_count": 2,
   "metadata": {},
   "outputs": [],
   "source": [
    "img = cv2.cvtColor(cv2.imread(\"../../data/Lenna.jpg\"), cv2.COLOR_BGR2GRAY)\n",
    "height, width = img.shape"
   ]
  },
  {
   "attachments": {},
   "cell_type": "markdown",
   "metadata": {},
   "source": [
    "## アフィン変換を計算する\n"
   ]
  },
  {
   "attachments": {},
   "cell_type": "markdown",
   "metadata": {},
   "source": [
    "### アフィン変換とは\n",
    "簡単に言うと，線形変換と平行移動といった座標変換を組み合わせて一般化したもの．<br>\n",
    "**線形変換**は以下の式で表され，「拡大・縮小」，「回転」，「せん断（画像を傾けること）」を表現できる．\n",
    "$$\n",
    "\\begin{pmatrix}x' \\\\ y'\\end{pmatrix}\n",
    "=\n",
    "\\begin{pmatrix}a & b \\\\ c & d\\end{pmatrix}\n",
    "\\begin{pmatrix}x \\\\ y\\end{pmatrix}\n",
    "$$\n",
    "**平行移動**は以下で表される．\n",
    "$$\n",
    "\\begin{aligned}\n",
    "x'&=x+t_x \\\\ y'&=y+t_y\n",
    "\\end{aligned}\n",
    "$$\n",
    "線形変換は行列との積，平行移動はベクトルの和となり，このままでは組み合わせることはできず，アフィン変換は実現できない．そこで同次座標が導入される．二次元座標$(x,y)$における同次座標とは，実数$w\\not =0$を用いて，$(x, y)$を$(wx,wy,w)$と表す座標のことである．例えば，同次座標$(2,3,1)$と$(4,6,2)$は同じ通常座標$(2,3)$を表している．簡単のため，普通$w=1$とされ，OpenCVでも同様に実装される．<br>\n",
    "\n",
    "<div align=center>\n",
    "<img src=\"./img/homogeneous_coordinates.png\">\n",
    "<br>引用元：https://satoh.cs.uec.ac.jp/ja/lecture/ComputerGraphics/2.pdf\n",
    "</div>\n",
    "\n",
    "この同次座標を導入することで，全ての幾何学的変換が行列の積で表される．上記の線形変換は，\n",
    "$$\n",
    "\\begin{pmatrix}x' \\\\ y' \\\\ 1\\end{pmatrix}\n",
    "=\n",
    "\\begin{pmatrix}a & b & 0 \\\\ c & d & 0 \\\\ 0 & 0 & 1\\end{pmatrix}\n",
    "\\begin{pmatrix}x \\\\ y \\\\ 1\\end{pmatrix}\n",
    "$$\n",
    "で表され，また，平行移動は，\n",
    "$$\n",
    "\\begin{pmatrix}x' \\\\ y' \\\\ 1\\end{pmatrix}\n",
    "=\n",
    "\\begin{pmatrix}1 & 0 & t_x \\\\ 0 & 1 & t_y \\\\ 0 & 0 & 1\\end{pmatrix}\n",
    "\\begin{pmatrix}x \\\\ y \\\\ 1\\end{pmatrix}\n",
    "$$\n",
    "と表されることになる．<br>\n",
    "同次座標を導入して表現した線形変換と平行移動を組み合わせると，\n",
    "$$\n",
    "\\begin{pmatrix}x' \\\\ y' \\\\ 1\\end{pmatrix}\n",
    "=\n",
    "\\begin{pmatrix}a & b & t_x \\\\ c & d & t_y \\\\ 0 & 0 & 1\\end{pmatrix}\n",
    "\\begin{pmatrix}x \\\\ y \\\\ 1\\end{pmatrix}\n",
    "$$\n",
    "と表され，上式を**アフィン変換**という.\n"
   ]
  },
  {
   "attachments": {},
   "cell_type": "markdown",
   "metadata": {},
   "source": [
    "### OpenCVでのアフィン変換の実装\n",
    "#### アフィン変換の計算\n",
    "```python\n",
    "retval = cv2.getAffineTransform(src: Mat, dst: Mat)\n",
    "```\n",
    "`src`: 原画像内の，アフィン変換の起点とする三角形の頂点座標<br>\n",
    "`dst`: 出力画像における，`src`に対応する三角形の頂点座標<br>\n",
    "`retval`: アフィン変換の変換行列の$2\\times 3$部分（下記参照）\n",
    "$$\n",
    "\\begin{pmatrix}a&b&t_x \\\\ c&d&t_y\\end{pmatrix}\n",
    "$$\n",
    "#### アフィン変換の画像への適用\n",
    "```python\n",
    "dst = cv2.warpAffine(src: Mat, M: Mat, dsize: tuple=(height, width))\n",
    "```\n",
    "`src`: 入力画像<br>\n",
    "`dst`: 出力画像<br>\n",
    "`M`: アフィン変換の変換行列の$2\\times 3$部分<br>\n",
    "`dsize`: 出力画像のサイズ<br>"
   ]
  },
  {
   "cell_type": "code",
   "execution_count": 3,
   "metadata": {},
   "outputs": [],
   "source": [
    "src = np.array([[0.0, 0.0], [0.0, 1.0], [1.0, 0.0]], np.float32)\n",
    "dst_x  = src.copy()\n",
    "dst_y  = src.copy()\n",
    "dst_xy = src.copy()"
   ]
  },
  {
   "attachments": {},
   "cell_type": "markdown",
   "metadata": {},
   "source": [
    "### 平行移動する分のピクセル値を決める"
   ]
  },
  {
   "cell_type": "code",
   "execution_count": 4,
   "metadata": {},
   "outputs": [],
   "source": [
    "shift = 10 # 平行移動する分のピクセル値"
   ]
  },
  {
   "attachments": {},
   "cell_type": "markdown",
   "metadata": {},
   "source": [
    "### x方向に水平移動"
   ]
  },
  {
   "cell_type": "code",
   "execution_count": 5,
   "metadata": {},
   "outputs": [],
   "source": [
    "dst_x[:, 0] += shift # x方向にshift(= 10)だけ平行移動してみる\n",
    "affine_x = cv2.getAffineTransform(src, dst_x) # アフィン変換を計算\n",
    "processed_x = cv2.warpAffine(img, affine_x, (height, width)) # アフィン変換を画像に適用"
   ]
  },
  {
   "attachments": {},
   "cell_type": "markdown",
   "metadata": {},
   "source": [
    "### y方向に水平移動"
   ]
  },
  {
   "cell_type": "code",
   "execution_count": 6,
   "metadata": {},
   "outputs": [],
   "source": [
    "dst_y[:, 1] += shift # y方向にshift(= 10)だけ平行移動してみる\n",
    "affine_y = cv2.getAffineTransform(src, dst_y) # アフィン変換を計算\n",
    "processed_y = cv2.warpAffine(img, affine_y, (height, width)) # アフィン変換を画像に適用"
   ]
  },
  {
   "attachments": {},
   "cell_type": "markdown",
   "metadata": {},
   "source": [
    "### xy方向に水平移動"
   ]
  },
  {
   "cell_type": "code",
   "execution_count": 7,
   "metadata": {},
   "outputs": [],
   "source": [
    "dst_xy += shift # xy方向にshift(= 10)だけ平行移動してみる\n",
    "affine_xy = cv2.getAffineTransform(src, dst_xy) # アフィン変換を計算\n",
    "processed_xy = cv2.warpAffine(img, affine_xy, (height, width)) # アフィン変換を画像に適用"
   ]
  },
  {
   "attachments": {},
   "cell_type": "markdown",
   "metadata": {},
   "source": [
    "## 処理後の画像を出力"
   ]
  },
  {
   "cell_type": "code",
   "execution_count": 8,
   "metadata": {},
   "outputs": [
    {
     "data": {
      "text/plain": [
       "True"
      ]
     },
     "execution_count": 8,
     "metadata": {},
     "output_type": "execute_result"
    }
   ],
   "source": [
    "cv2.imwrite(\"../../data/jupyter-notebook/ip_7_x.jpg\", processed_x)\n",
    "cv2.imwrite(\"../../data/jupyter-notebook/ip_7_y.jpg\", processed_y)\n",
    "cv2.imwrite(\"../../data/jupyter-notebook/ip_7_xy.jpg\", processed_xy)"
   ]
  },
  {
   "attachments": {},
   "cell_type": "markdown",
   "metadata": {},
   "source": [
    "## 平行移動した結果の画像\n",
    "右から順にx方向，y方向，xy方向に10ピクセル平行移動した画像"
   ]
  },
  {
   "attachments": {},
   "cell_type": "markdown",
   "metadata": {},
   "source": [
    "<div align=center>\n",
    "<img src=\"./img/ip_7_x.jpg\">\n",
    "<img src=\"./img/ip_7_y.jpg\">\n",
    "<img src=\"./img/ip_7_xy.jpg\">"
   ]
  }
 ],
 "metadata": {
  "kernelspec": {
   "display_name": "image-processing-with-opencv-0WXtWX9Y",
   "language": "python",
   "name": "python3"
  },
  "language_info": {
   "codemirror_mode": {
    "name": "ipython",
    "version": 3
   },
   "file_extension": ".py",
   "mimetype": "text/x-python",
   "name": "python",
   "nbconvert_exporter": "python",
   "pygments_lexer": "ipython3",
   "version": "3.10.6 (main, Aug 10 2022, 11:40:04) [GCC 11.3.0]"
  },
  "orig_nbformat": 4,
  "vscode": {
   "interpreter": {
    "hash": "a93bf0957201f49ac47ae9f622ab86d603510fec0536f9dd9b4d27b14448df81"
   }
  }
 },
 "nbformat": 4,
 "nbformat_minor": 2
}
