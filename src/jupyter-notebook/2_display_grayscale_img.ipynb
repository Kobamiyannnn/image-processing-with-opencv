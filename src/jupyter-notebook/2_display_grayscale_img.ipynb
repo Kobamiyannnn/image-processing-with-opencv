{
 "cells": [
  {
   "attachments": {},
   "cell_type": "markdown",
   "metadata": {},
   "source": [
    "# 基本編 - 2\n",
    "**カラー画像を読み込み、グレースケール表示するプログラム**"
   ]
  },
  {
   "attachments": {},
   "cell_type": "markdown",
   "metadata": {},
   "source": [
    "## 必要なライブラリを読み込む"
   ]
  },
  {
   "cell_type": "code",
   "execution_count": 24,
   "metadata": {},
   "outputs": [],
   "source": [
    "import cv2"
   ]
  },
  {
   "attachments": {},
   "cell_type": "markdown",
   "metadata": {},
   "source": [
    "## カラー画像をグレースケール化する"
   ]
  },
  {
   "attachments": {},
   "cell_type": "markdown",
   "metadata": {},
   "source": [
    "### 方法1\n",
    "```python\n",
    "dst = cv2.cvtColor(src: Mat, code: int)\n",
    "```\n",
    "`src`: 入力画像<br>\n",
    "`dst`: 出力画像<br>\n",
    "`code`: 色空間変換コード<br>\n",
    "<br>\n",
    "`code`には様々なものを指定することができる．その中でも`cv2.COLOR_BGR2GRAY`と指定することで，グレースケール画像に変換することができる．<br>ただし，`cv2.imread()`で読み込んだ画像はBGR形式なので，`cv2.COLOR_RGB2GRAY`と指定してはいけない．"
   ]
  },
  {
   "cell_type": "code",
   "execution_count": 25,
   "metadata": {},
   "outputs": [],
   "source": [
    "method_1 = cv2.cvtColor(cv2.imread(\"../../data/Lenna.jpg\"), cv2.COLOR_BGR2GRAY)"
   ]
  },
  {
   "attachments": {},
   "cell_type": "markdown",
   "metadata": {},
   "source": [
    "### 方法2（非推奨）\n",
    "```python\n",
    "retval = cv2.imread(filename: str, flags: int = ...)\n",
    "```\n",
    "`flags`に`cv2.IMREAD_GRAYSCALE`を指定することでもグレースケール化することができる．ただし，実行環境（？）ごとに変換結果が異なるので，`cv2.cvtColor()`を使用するほうが安全．"
   ]
  },
  {
   "cell_type": "code",
   "execution_count": 26,
   "metadata": {},
   "outputs": [],
   "source": [
    "method_2 = cv2.imread(\"../../data/Lenna.jpg\", cv2.IMREAD_GRAYSCALE)"
   ]
  },
  {
   "attachments": {},
   "cell_type": "markdown",
   "metadata": {},
   "source": [
    "## 画像の表示"
   ]
  },
  {
   "cell_type": "code",
   "execution_count": 27,
   "metadata": {},
   "outputs": [],
   "source": [
    "cv2.imshow(\"Grayscale image\", method_1)\n",
    "cv2.waitKey(0)\n",
    "cv2.destroyAllWindows()"
   ]
  }
 ],
 "metadata": {
  "kernelspec": {
   "display_name": "image-processing-with-opencv-0WXtWX9Y",
   "language": "python",
   "name": "python3"
  },
  "language_info": {
   "codemirror_mode": {
    "name": "ipython",
    "version": 3
   },
   "file_extension": ".py",
   "mimetype": "text/x-python",
   "name": "python",
   "nbconvert_exporter": "python",
   "pygments_lexer": "ipython3",
   "version": "3.10.6"
  },
  "orig_nbformat": 4,
  "vscode": {
   "interpreter": {
    "hash": "a93bf0957201f49ac47ae9f622ab86d603510fec0536f9dd9b4d27b14448df81"
   }
  }
 },
 "nbformat": 4,
 "nbformat_minor": 2
}
